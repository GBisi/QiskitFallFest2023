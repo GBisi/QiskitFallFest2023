{
 "cells": [
  {
   "cell_type": "markdown",
   "id": "4d02ad1d-d07a-486b-a33a-d9b1163d73b1",
   "metadata": {
    "tags": []
   },
   "source": [
    "# Hands On: I Primi Circuiti con Qiskit e Python\n",
    "## Qiskit Fall Fest 2023 - Università di Trieste\n",
    "### by Giuseppe Bisicchia\n",
    "#### https://gbisi.github.io\n",
    "#### giuseppe.bisicchia@phd.unipi.it\n",
    "\n",
    "Benvenuti nel laboratorio Hand On del Qiskit Fall Fest 2023! In questo laoratorio impareremo a realizzare, manipolare ed eseguire circuiti quantistici in Python, tramite il Software Development Kit (SDK) Qiskit, su macchine e simulatori IBM. \n",
    "\n",
    "Nel mentre, risponderemo alle seguenti domande:\n",
    "- Come si programma un circuito quantistico?\n",
    "- Come posso eseguire un circuito?\n",
    "- Come si interpretano i risultati?\n",
    "\n",
    "Le slides del laboratorio sono disponibili al seguente link: TODO"
   ]
  },
  {
   "cell_type": "markdown",
   "id": "ebe725c3-78e0-4925-a71d-d4f0bf47aa77",
   "metadata": {},
   "source": [
    "Il Circuito Quantistico (QuantumCircuit) è l’unità fondamentale di Qiskit.\n",
    "\n",
    "In Qiskit un programma è diviso in (almeno) due fasi:\n",
    "- Build: il Quantum Circuit viene creato;\n",
    "- Execute: il Quantum Circuit viene eseguito.\n",
    "    - Un circuito può essere eseguito su un simulatore locale, nel Cloud o direttamente su un Computer Quantistico.\n",
    "    \n",
    "Vediamo subito un semplice esempio di Quantum Circuit!"
   ]
  },
  {
   "cell_type": "code",
   "execution_count": 1,
   "id": "f4397a92-6cda-496f-81a6-65a98fc269b1",
   "metadata": {},
   "outputs": [
    {
     "data": {
      "image/png": "[encoded data removed]",
      "text/plain": [
       "<Figure size 162.08x367.889 with 1 Axes>"
      ]
     },
     "execution_count": 1,
     "metadata": {},
     "output_type": "execute_result"
    }
   ],
   "source": [
    "from qiskit import QuantumCircuit # Importiamo la libreria Qiskit e in particolare la classe QuantumCircuit\n",
    "\n",
    "qc = QuantumCircuit(3, 3) # Creiamo un QuantumCircuit chiamato qc avente 3 qubit e 3 bit classici\n",
    "\n",
    "qc.draw() # Visualizziamo graficamente il circuito"
   ]
  },
  {
   "cell_type": "markdown",
   "id": "2ed45535-645b-45b1-b77e-cef06c913dff",
   "metadata": {},
   "source": [
    "Per misurare i qubit usiamo _measure_ (https://qiskit.org/documentation/stubs/qiskit.circuit.QuantumCircuit.html#qiskit.circuit.QuantumCircuit.measure)"
   ]
  },
  {
   "cell_type": "code",
   "execution_count": 2,
   "id": "75aaa80d-e1fd-4ad0-8faa-6ce99056b434",
   "metadata": {
    "tags": []
   },
   "outputs": [
    {
     "data": {
      "image/png": "[encoded data removed]",
      "text/plain": [
       "<Figure size 371.107x367.889 with 1 Axes>"
      ]
     },
     "execution_count": 2,
     "metadata": {},
     "output_type": "execute_result"
    }
   ],
   "source": [
    "from qiskit import QuantumCircuit \n",
    "\n",
    "qc = QuantumCircuit(3, 3) \n",
    "\n",
    "qc.measure([0, 1, 2], [0, 1, 2]) # Misuriamo i qubit\n",
    "\n",
    "qc.draw(output=\"mpl\") "
   ]
  },
  {
   "cell_type": "markdown",
   "id": "9027f411-455d-47af-ba07-f1fc86eff1fe",
   "metadata": {},
   "source": [
    "*Esercizio!*\n",
    "\n",
    "Provate a cambiare la corrispondenza tra qubit e bit classici!\n",
    "\n",
    "Esempio: il qubit 2 viene memorizzato nel bit 0 e il qubit 0 nel bit 2"
   ]
  },
  {
   "cell_type": "code",
   "execution_count": null,
   "id": "76fdb24f-e356-4e8d-b4cc-b5ba70d2ac21",
   "metadata": {},
   "outputs": [],
   "source": []
  },
  {
   "cell_type": "code",
   "execution_count": 3,
   "id": "d9369e6e-0cbe-4eab-bd71-2df71e74f755",
   "metadata": {
    "tags": []
   },
   "outputs": [
    {
     "data": {
      "text/plain": [
       "{'000': 1024}"
      ]
     },
     "execution_count": 3,
     "metadata": {},
     "output_type": "execute_result"
    }
   ],
   "source": [
    "from qiskit.providers.aer import AerSimulator # Importiamo il simulatore locale Aer di Qiskit\n",
    "\n",
    "sim = AerSimulator() # Creiamo un simulatore Aer chiamato sim\n",
    "\n",
    "job = sim.run(qc) # Eseguiamo il circuito qc nel simulatore\n",
    "result = job.result() # Memorizziamo i risultati dell'esecuzione in una variabile chiamata result\n",
    "\n",
    "result.get_counts() # Visualizziamo i risultati"
   ]
  },
  {
   "cell_type": "markdown",
   "id": "1c4b448a-288b-41a7-a31f-1acd53d3aa8d",
   "metadata": {},
   "source": [
    "Notate che qc può essere qualsiasi circuito! Il programma è indipendente dal particolare circuito che vogliamo eseguire!"
   ]
  },
  {
   "cell_type": "markdown",
   "id": "7d3f40f7-47b8-46e2-9bf3-8e0a040ccdb9",
   "metadata": {},
   "source": [
    "*Esercizio!*\n",
    "\n",
    "Provate a riscrivere il codice precedente stampando solo result, che ottenete?"
   ]
  },
  {
   "cell_type": "code",
   "execution_count": null,
   "id": "35688f0b-4d1d-4e66-9a0f-5bb0f5ded1d3",
   "metadata": {
    "tags": []
   },
   "outputs": [],
   "source": []
  },
  {
   "cell_type": "markdown",
   "id": "084c1079-a09e-4089-a8c8-e078365242c3",
   "metadata": {},
   "source": [
    "Rivediamo tutto insieme!"
   ]
  },
  {
   "cell_type": "code",
   "execution_count": 4,
   "id": "ccccc416-a7a5-4e23-9216-a28b19a3ced2",
   "metadata": {
    "tags": []
   },
   "outputs": [
    {
     "data": {
      "text/plain": [
       "{'000': 1024}"
      ]
     },
     "execution_count": 4,
     "metadata": {},
     "output_type": "execute_result"
    }
   ],
   "source": [
    "# -------------\n",
    "# --- BUILD ---\n",
    "# -------------\n",
    "\n",
    "from qiskit import QuantumCircuit # Importiamo la libreria Qiskit e in particolare la classe QuantumCircuit\n",
    "\n",
    "qc = QuantumCircuit(3, 3) # Creiamo un QuantumCircuit chiamato qc avente 3 qubit e 3 bit classici\n",
    "\n",
    "qc.measure([0, 1, 2], [0, 1, 2]) # Misuriamo i qubit\n",
    "\n",
    "# ---------------\n",
    "# --- EXECUTE ---\n",
    "# ---------------\n",
    "\n",
    "from qiskit.providers.aer import AerSimulator # Importiamo il simulatore locale Aer di Qiskit\n",
    "\n",
    "sim = AerSimulator() # Creiamo un simulatore Aer chiamato sim\n",
    "\n",
    "job = sim.run(qc) # Eseguiamo il circuito qc nel simulatore\n",
    "result = job.result() # Memorizziamo i risultati dell'esecuzione in una variabile chiamata result\n",
    "\n",
    "result.get_counts() # Visualizziamo i risultati"
   ]
  },
  {
   "cell_type": "markdown",
   "id": "0e0b6d19-7a5c-4bba-b5e2-88b5b2529432",
   "metadata": {},
   "source": [
    "*Esercizio!*\n",
    "\n",
    "Create un circuito con 6 qubit e 3 bit classici.\n",
    "\n",
    "Ogni qubit dispari deve essere misurato e memorizzato in un bit classico.\n",
    "\n",
    "Eseguite il circuito sul simulatore Aer per 512 shots.\n",
    "\n",
    "Hint1: Consultate la documentazione ufficiale!\n",
    "https://qiskit.org/documentation/apidoc/index.html\n",
    "\n",
    "Hint2: Utilizzate il template precedente!"
   ]
  },
  {
   "cell_type": "code",
   "execution_count": null,
   "id": "e65fd422-7250-4f4d-b2ae-e8632319f811",
   "metadata": {},
   "outputs": [],
   "source": []
  },
  {
   "cell_type": "markdown",
   "id": "5c0a2000-6612-4f88-9f31-e40dd5eeba78",
   "metadata": {},
   "source": [
    "Per eseguire un circuito in un _vero_ computer quantistico dobbiamo interagire con IBM Quantum."
   ]
  },
  {
   "cell_type": "code",
   "execution_count": 5,
   "id": "41d68ae7-af6a-4bd2-8c97-af7483a7f0c0",
   "metadata": {},
   "outputs": [
    {
     "data": {
      "text/plain": [
       "[<IBMBackend('simulator_stabilizer')>,\n",
       " <IBMBackend('ibm_nairobi')>,\n",
       " <IBMBackend('simulator_statevector')>,\n",
       " <IBMBackend('ibm_lagos')>,\n",
       " <IBMBackend('ibm_perth')>,\n",
       " <IBMBackend('ibm_brisbane')>,\n",
       " <IBMBackend('ibmq_qasm_simulator')>,\n",
       " <IBMBackend('simulator_extended_stabilizer')>,\n",
       " <IBMBackend('simulator_mps')>]"
      ]
     },
     "execution_count": 5,
     "metadata": {},
     "output_type": "execute_result"
    }
   ],
   "source": [
    "from qiskit_ibm_runtime import QiskitRuntimeService, Sampler, Estimator, Session, Options # Importiamo tutto il necessario\n",
    "\n",
    "service = QiskitRuntimeService(channel=\"ibm_quantum\") # Colleghiamoci al nostro account IBM Quantum\n",
    "\n",
    "service.backends() # Visualizziamo i backend disponibili"
   ]
  },
  {
   "cell_type": "markdown",
   "id": "f2fd8dcd-263a-4d89-88c7-036cb3775e99",
   "metadata": {},
   "source": [
    "Possiamo eseguire il nostro circuito in uno qualsiasi dei backend disponibili"
   ]
  },
  {
   "cell_type": "code",
   "execution_count": 6,
   "id": "4a73e90b-eecc-4875-beb8-2f2fd3a80f04",
   "metadata": {
    "tags": []
   },
   "outputs": [
    {
     "name": "stderr",
     "output_type": "stream",
     "text": [
      "base_primitive._run_primitive:INFO:2023-11-14 16:43:43,786: Submitting job using options {'optimization_level': 1, 'resilience_level': 0, 'max_execution_time': None, 'transpilation': {'skip_transpilation': False, 'initial_layout': None, 'layout_method': None, 'routing_method': None, 'approximation_degree': None, 'optimization_settings': {'level': 1}, 'coupling_map': None, 'basis_gates': None}, 'resilience': {'noise_amplifier': 'TwoQubitAmplifier', 'noise_factors': (1, 3, 5), 'extrapolator': 'LinearExtrapolator', 'level': 0}, 'execution': {'shots': 4000, 'init_qubits': True, 'noise_model': None, 'seed_simulator': None}, 'environment': {'log_level': 'WARNING', 'callback': None, 'job_tags': []}, 'simulator': {'noise_model': None, 'seed_simulator': None, 'coupling_map': None, 'basis_gates': None}}\n"
     ]
    },
    {
     "data": {
      "text/plain": [
       "[{0: 1.0}]"
      ]
     },
     "execution_count": 6,
     "metadata": {},
     "output_type": "execute_result"
    }
   ],
   "source": [
    "backend = Sampler(\"ibmq_qasm_simulator\")\n",
    "\n",
    "job = backend.run(qc) #\n",
    "result = job.result()\n",
    "\n",
    "result.quasi_dists"
   ]
  },
  {
   "cell_type": "markdown",
   "id": "7abf3afc-8c86-4db0-9c62-43bf84101457",
   "metadata": {},
   "source": [
    "Cosa accade se visualizziamo solo result?"
   ]
  },
  {
   "cell_type": "code",
   "execution_count": 7,
   "id": "60d56640-c199-427d-a3ad-b5c81e099eba",
   "metadata": {},
   "outputs": [
    {
     "name": "stderr",
     "output_type": "stream",
     "text": [
      "base_primitive._run_primitive:INFO:2023-11-14 16:43:47,682: Submitting job using options {'optimization_level': 1, 'resilience_level': 0, 'max_execution_time': None, 'transpilation': {'skip_transpilation': False, 'initial_layout': None, 'layout_method': None, 'routing_method': None, 'approximation_degree': None, 'optimization_settings': {'level': 1}, 'coupling_map': None, 'basis_gates': None}, 'resilience': {'noise_amplifier': 'TwoQubitAmplifier', 'noise_factors': (1, 3, 5), 'extrapolator': 'LinearExtrapolator', 'level': 0}, 'execution': {'shots': 4000, 'init_qubits': True, 'noise_model': None, 'seed_simulator': None}, 'environment': {'log_level': 'WARNING', 'callback': None, 'job_tags': []}, 'simulator': {'noise_model': None, 'seed_simulator': None, 'coupling_map': None, 'basis_gates': None}}\n"
     ]
    },
    {
     "data": {
      "text/plain": [
       "SamplerResult(quasi_dists=[{0: 1.0}], metadata=[{'shots': 4000, 'circuit_metadata': {}}])"
      ]
     },
     "execution_count": 7,
     "metadata": {},
     "output_type": "execute_result"
    }
   ],
   "source": [
    "backend = Sampler(\"ibmq_qasm_simulator\")\n",
    "\n",
    "job = backend.run(qc) #\n",
    "result = job.result()\n",
    "\n",
    "result"
   ]
  },
  {
   "cell_type": "markdown",
   "id": "5fa43200-311f-4c32-8680-67f518054906",
   "metadata": {},
   "source": [
    "Come visto nella lezione precedente, per modificare lo stato di un programma quantistico utilizziamo i gate quantistici (https://qiskit.org/documentation/tutorials/circuits/3_summary_of_quantum_operations.html).\n",
    "\n",
    "Per applicare un gate dobbiamo semplicemente specificare quale vogliamo usare e indicare quali sono i qubit coinvolti."
   ]
  },
  {
   "cell_type": "code",
   "execution_count": 8,
   "id": "a7633e0f-d8a5-4e16-b48c-916e35c31dfe",
   "metadata": {
    "tags": []
   },
   "outputs": [
    {
     "data": {
      "image/png": "[encoded data removed]",
      "text/plain": [
       "<Figure size 370.906x200.667 with 1 Axes>"
      ]
     },
     "execution_count": 8,
     "metadata": {},
     "output_type": "execute_result"
    }
   ],
   "source": [
    "from qiskit import QuantumCircuit\n",
    "\n",
    "qc = QuantumCircuit(2)\n",
    "\n",
    "qc.x(0)\n",
    "\n",
    "qc.h(0)\n",
    "\n",
    "qc.cx(0, 1)\n",
    "\n",
    "qc.draw()"
   ]
  },
  {
   "cell_type": "markdown",
   "id": "f64b54f3-bf69-4fa0-a172-db38220379b3",
   "metadata": {
    "tags": []
   },
   "source": [
    "### Esercizi!"
   ]
  },
  {
   "cell_type": "markdown",
   "id": "8c415bb1-ff34-4d54-8b2a-a8295756b131",
   "metadata": {},
   "source": [
    "Create un circuito per ogni stato di Bell.\n",
    "\n",
    "Aggiungete anche i bit classici e le operazioni di misura.\n",
    "\n",
    "Eseguite ogni circuito su un simulatore online per 1024 shots."
   ]
  },
  {
   "cell_type": "code",
   "execution_count": null,
   "id": "5917fe02-4727-443a-af8c-e1ecd067ca4b",
   "metadata": {},
   "outputs": [],
   "source": []
  },
  {
   "cell_type": "code",
   "execution_count": null,
   "id": "1618a4fe-a0de-439f-97af-cb57e708a1da",
   "metadata": {},
   "outputs": [],
   "source": []
  },
  {
   "cell_type": "code",
   "execution_count": null,
   "id": "8f99fe75-df86-4d58-ad2e-4088924ff7a0",
   "metadata": {},
   "outputs": [],
   "source": []
  },
  {
   "cell_type": "markdown",
   "id": "bbe38c7c-d9c4-4039-8e8c-af40d0cf97a8",
   "metadata": {},
   "source": [
    "Create un circuito con 2 qubit che prende in input un numero in formato\n",
    "binario e aggiunge 1:\n",
    "\n",
    "00 -> 01\n",
    "01 -> 10\n",
    "10 -> 11\n",
    "\n",
    "Cosa accade se l’input è 11?"
   ]
  },
  {
   "cell_type": "code",
   "execution_count": null,
   "id": "17a8f92f-854d-43ba-97cb-0a70be796333",
   "metadata": {},
   "outputs": [],
   "source": []
  },
  {
   "cell_type": "markdown",
   "id": "c8c6720c-3e7d-41d3-953f-1120c85989a5",
   "metadata": {},
   "source": [
    "Come cambia il circuito precedente se invece di avere 2 qubit ne abbiamo 3?\n",
    "\n",
    "Testate il circuito sul simulatore locale, un simulatore sul cloud e un quantum\n",
    "computer.\n",
    "\n",
    "Che differenze notate?"
   ]
  },
  {
   "cell_type": "code",
   "execution_count": null,
   "id": "8c525f25-5f47-45a0-a910-db535741e589",
   "metadata": {},
   "outputs": [],
   "source": []
  },
  {
   "cell_type": "markdown",
   "id": "8b618c4a-9647-47be-9c35-b6ddb8fd5272",
   "metadata": {},
   "source": [
    "Realizzate in Qiskit il circuito per il teletrasporto quantistico!"
   ]
  },
  {
   "cell_type": "code",
   "execution_count": null,
   "id": "efe1482d-060b-48f0-811a-57d00e2ed4bb",
   "metadata": {},
   "outputs": [],
   "source": []
  },
  {
   "cell_type": "markdown",
   "id": "c67609bc-4d34-438a-a71e-5018dca0d95b",
   "metadata": {},
   "source": [
    "Provate ad eseguire i circuiti precedenti su diversi computer quantistici e\n",
    "simulatori.\n",
    "\n",
    "Ci sono differenze nei tempi di esecuzione e di attesa? Perché?\n",
    "\n",
    "Come cambia il rumore e l’affidabilità dei risultati?"
   ]
  },
  {
   "cell_type": "code",
   "execution_count": null,
   "id": "0093c1b2-d57f-4d6f-b3c4-acf228db2bb3",
   "metadata": {},
   "outputs": [],
   "source": []
  },
  {
   "cell_type": "markdown",
   "id": "a4bab793-f7b5-47a1-9091-2fa98ee1e83f",
   "metadata": {},
   "source": [
    "### Cosa abbiamo imparato\n",
    "\n",
    "- Come si programma un circuito quantistico con Python e Qiskit\n",
    "- Come simulare in locale l’esecuzione di un circuito quantistico\n",
    "- Come eseguire un circuito quantistico nel cloud di IBM Quantum su un vero computer quantistico\n",
    "- Come interpretare i risultati di un’esecuzione di un circuito quantistico"
   ]
  }
 ],
 "metadata": {
  "kernelspec": {
   "display_name": "Python 3 (ipykernel)",
   "language": "python",
   "name": "python3"
  },
  "language_info": {
   "codemirror_mode": {
    "name": "ipython",
    "version": 3
   },
   "file_extension": ".py",
   "mimetype": "text/x-python",
   "name": "python",
   "nbconvert_exporter": "python",
   "pygments_lexer": "ipython3",
   "version": "3.10.8"
  },
  "widgets": {
   "application/vnd.jupyter.widget-state+json": {
    "state": {},
    "version_major": 2,
    "version_minor": 0
   }
  }
 },
 "nbformat": 4,
 "nbformat_minor": 5
}
