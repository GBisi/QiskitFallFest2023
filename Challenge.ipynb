{
 "cells": [
  {
   "cell_type": "markdown",
   "metadata": {},
   "source": [
    "# Qiskit Fall Fest - Challenge"
   ]
  },
  {
   "cell_type": "markdown",
   "metadata": {},
   "source": [
    "Nella prima lezione avete visto che per misurare il valor medio di un operatore (ad esempio $X$) sullo stato a singolo qubit $\\vert \\psi\\rangle =U \\vert 0 \\rangle$ dobbiamo trovare l'operatore $\\tilde{U}$ che diagonalizza $X$.\n",
    "$$X = \\begin{bmatrix} 0 & 1 \\\\ 1 & 0 \\end{bmatrix}$$\n",
    "Sappiamo che gli autovalori di $X$ sono:\n",
    "$$\\vert + \\rangle = \\frac{1}{\\sqrt{2}} (\\vert 0 \\rangle + \\vert 1 \\rangle ) = \\frac{1}{\\sqrt{2}} \\begin{bmatrix} 1 \\\\ 1 \\end{bmatrix}$$\n",
    "$$\\vert - \\rangle = \\frac{1}{\\sqrt{2}} (\\vert 0 \\rangle - \\vert 1 \\rangle ) = \\frac{1}{\\sqrt{2}} \\begin{bmatrix} 1 \\\\ -1 \\end{bmatrix}$$\n",
    "E quindi:\n",
    "$$\\implies \\tilde{U}=\\left( \\vert +\\rangle, \\vert -\\rangle \\right)=\\frac{1}{\\sqrt{2}}\\begin{bmatrix} 1 & 1 \\\\ 1 & -1 \\end{bmatrix}=H$$\n",
    "Con questi semplici passaggi possiamo quindi ricavare il valor medio di $X$ misurando sulla base computazionale:\n",
    "$$\\implies \\langle X \\rangle =\\langle \\psi \\vert X \\vert \\psi \\rangle = \\langle \\psi \\vert H (H X H) H \\vert \\psi \\rangle  = \\langle \\psi \\vert H \\begin{bmatrix} 1 & 0 \\\\ 0 & -1 \\end{bmatrix} H \\vert \\psi \\rangle = \\langle \\tilde{\\psi} \\vert  \\begin{bmatrix} 1 & 0 \\\\ 0 & -1 \\end{bmatrix}  \\vert \\tilde{\\psi} \\rangle= p_0-p_1  $$\n",
    "dove $p_0$ ($p_1$) è la probabilità di misurare 0 (1) e $\\vert \\tilde{\\psi} \\rangle = H \\vert \\psi \\rangle = H U \\vert 0 \\rangle $\n"
   ]
  },
  {
   "cell_type": "markdown",
   "metadata": {},
   "source": [
    "### Challange\n",
    "Cercare di rispondere al maggior numero di quesiti nel modo che ritenete più opportuno. Potete usare qualsiasi risorsa che ritenete necessaria ( tutorial di Qiskit, internet ecc.)"
   ]
  },
  {
   "cell_type": "markdown",
   "metadata": {},
   "source": [
    "1. Generare, usando un circuito quantistico, lo stato $\\vert \\psi \\rangle = -\\frac{1}{2} \\vert 0 \\rangle + \\frac{\\sqrt{3}}{2} \\vert 1 \\rangle$. Verificare la correttezza del circuio utilizzando lo $statevector$ $simulator$, l'$Aer$ $simulator$ e facendo il grafico di questo stato sulla sfera di Bloch"
   ]
  },
  {
   "cell_type": "code",
   "execution_count": null,
   "metadata": {},
   "outputs": [],
   "source": []
  },
  {
   "cell_type": "markdown",
   "metadata": {},
   "source": [
    "2. Ricavare la forma matriciale dell'operatore che diagonalizza $Y=\\begin{bmatrix} 0 & -i \\\\ i & 0 \\end{bmatrix}$, e la sua decomposizione in gate quantistici dispobili su Qiskit"
   ]
  },
  {
   "cell_type": "code",
   "execution_count": null,
   "metadata": {},
   "outputs": [],
   "source": []
  },
  {
   "cell_type": "markdown",
   "metadata": {},
   "source": [
    "\n",
    "3. Usare l'operatore trovato per calcolare il valor medio di $Y$ sullo stato $\\vert \\psi \\rangle$ (del punto 1.) usando l'$Aer$ $simulator$ o il $sampler$. Confrontare i risultati ottenuti con lo $statevector$ $simulator$ (o se preferite con un calcolo fatto \"a mano\") e l'$\\bm{estimator}$."
   ]
  },
  {
   "cell_type": "code",
   "execution_count": null,
   "metadata": {},
   "outputs": [],
   "source": []
  },
  {
   "cell_type": "markdown",
   "metadata": {},
   "source": [
    "4. Trovare lo \"sviluppo\" (i coefficienti $a$, $b$, $c$ e $d$) sulle matrici di Pauli $X=\\begin{bmatrix} 0 & 1\\\\ 1 & 0 \\end{bmatrix}$, $Y=\\begin{bmatrix} 0 & -i \\\\ i & 0 \\end{bmatrix}$, $Z=\\begin{bmatrix} 1 & 0 \\\\ 0 & -1 \\end{bmatrix}$ e l'identità $I=\\begin{bmatrix} 1 & 0\\\\ 0 & 1 \\end{bmatrix}$ dell'operatore:\n",
    "\n",
    "$$ A = \\begin{bmatrix} -1 & 1- 0.5i\\\\1+0.5i & -5\\end{bmatrix}=a X+ bY+ cZ+ dI$$\n",
    "\n",
    "5. Calcolare il valor medio di questa osservabile su $\\vert \\psi \\rangle$ (del punto 1.) usando l'$estimator$ e il $sampler$ (o l'$Aer$ $simulator$)"
   ]
  },
  {
   "cell_type": "code",
   "execution_count": null,
   "metadata": {},
   "outputs": [],
   "source": []
  },
  {
   "cell_type": "markdown",
   "metadata": {},
   "source": [
    "\n",
    "6. Scrivere un codice che calcola il valore di aspettazione  (sullo stato che preferite) dell'hamiltoniana $H$ (usando l'$Aer$ $simulator$ o il $sampler$) e confrontare i risultati con l'$estimator$\n",
    "$$ H= 0.5 I \\otimes X + 2 Z \\otimes X + \\frac{2}{3} Y\\otimes Z + 7 Z \\otimes Y $$"
   ]
  },
  {
   "cell_type": "code",
   "execution_count": null,
   "metadata": {},
   "outputs": [],
   "source": []
  },
  {
   "cell_type": "markdown",
   "metadata": {},
   "source": [
    "__BONUS__: discutere il numero di misure necessarie per stimare $\\langle H \\rangle$ alla luce del principio di indeterminazione."
   ]
  },
  {
   "cell_type": "markdown",
   "metadata": {},
   "source": []
  }
 ],
 "metadata": {
  "language_info": {
   "name": "python"
  },
  "orig_nbformat": 4
 },
 "nbformat": 4,
 "nbformat_minor": 2
}
